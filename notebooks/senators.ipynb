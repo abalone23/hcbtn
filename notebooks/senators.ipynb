{
 "cells": [
  {
   "cell_type": "code",
   "execution_count": 1,
   "metadata": {},
   "outputs": [
    {
     "name": "stdout",
     "output_type": "stream",
     "text": [
      "The history saving thread hit an unexpected error (DatabaseError('database disk image is malformed')).History will not be written to the database.\n"
     ]
    }
   ],
   "source": [
    "import os\n",
    "import numpy as np\n",
    "import pandas as pd\n",
    "import requests\n",
    "import re\n",
    "from bs4 import BeautifulSoup\n",
    "from datetime import datetime\n",
    "import dateutil.parser\n",
    "\n",
    "import pandas as pd\n",
    "import psycopg2 as pg\n",
    "import pandas.io.sql as pd_sql\n",
    "\n",
    "# Without a typical browser user agent senate.gov will reject the request\n",
    "my_headers = {'User-Agent':'Mozilla/5.0 (Windows NT 10.0; Win64; x64) AppleWebKit/537.36 (KHTML, like Gecko) Chrome/75.0.3770.142 Safari/537.36'}"
   ]
  },
  {
   "cell_type": "code",
   "execution_count": 2,
   "metadata": {},
   "outputs": [
    {
     "data": {
      "text/plain": [
       "200"
      ]
     },
     "execution_count": 2,
     "metadata": {},
     "output_type": "execute_result"
    }
   ],
   "source": [
    "url='https://www.senate.gov/general/contact_information/senators_cfm.cfm'\n",
    "response = requests.get(url, headers=my_headers)\n",
    "response.status_code"
   ]
  },
  {
   "cell_type": "code",
   "execution_count": 3,
   "metadata": {},
   "outputs": [],
   "source": [
    "page = response.text\n",
    "soup = BeautifulSoup(page, \"lxml\")"
   ]
  },
  {
   "cell_type": "markdown",
   "metadata": {},
   "source": [
    "The ids in the list match the ids from the ipums dataset:"
   ]
  },
  {
   "cell_type": "code",
   "execution_count": 4,
   "metadata": {},
   "outputs": [],
   "source": [
    "states_list = [\n",
    "['Alabama', 'AL', 1], ['Alaska', 'AK', 2], ['Arizona', 'AZ', 4], ['Arkansas', 'AR', 5],\n",
    "['California', 'CA', 6], ['Colorado', 'CO', 8], ['Connecticut', 'CT', 9], ['Delaware', 'DE', 10],\n",
    "['District of Columbia', 'DC', 11], ['Florida', 'FL', 12], ['Georgia', 'GA', 13],\n",
    "['Hawaii', 'HI', 15], ['Idaho', 'ID', 16], ['Illinois', 'IL', 17], ['Indiana', 'IN', 18],\n",
    "['Iowa', 'IA', 19], ['Kansas', 'KS', 20], ['Kentucky', 'KY', 21], ['Louisiana', 'LA', 22],\n",
    "['Maine', 'ME', 23], ['Maryland', 'MD', 24], ['Massachusetts', 'MA', 25], ['Michigan', 'MI', 26],\n",
    "['Minnesota', 'MN', 27], ['Mississippi', 'MS', 28],\n",
    "['Missouri', 'MO', 29], ['Montana', 'MT', 30], ['Nebraska', 'NE', 31], ['Nevada', 'NV', 32],\n",
    "['New Hampshire', 'NH', 33], ['New Jersey', 'NJ', 34], ['New Mexico', 'NM', 35], \n",
    "['New York', 'NY', 36], ['North Carolina', 'NC', 37],\n",
    "['North Dakota', 'ND', 38], ['Ohio', 'OH', 39], ['Oklahoma', 'OK', 40], ['Oregon', 'OR', 41],\n",
    "['Pennsylvania', 'PA', 42], ['Rhode Island', 'RI', 44],\n",
    "['South Carolina', 'SC', 45], ['South Dakota', 'SD', 46], ['Tennessee', 'TN', 47], ['Texas', 'TX', 48],\n",
    "['Utah', 'UT', 49], ['Vermont', 'VT', 50], ['Virginia', 'VA', 51], ['Washington', 'WA', 53],\n",
    "['West Virginia', 'WV', 54], ['Wisconsin', 'WI', 55], ['Wyoming', 'WY', 56]\n",
    "]"
   ]
  },
  {
   "cell_type": "code",
   "execution_count": 5,
   "metadata": {},
   "outputs": [],
   "source": [
    "import re\n",
    "total_regex = re.compile(' - ')\n",
    "senators = soup.find_all(text=total_regex)\n",
    "senators_list = []\n",
    "for dtg_string in senators:\n",
    "    senname = dtg_string.findPreviousSibling().text.strip()\n",
    "    m = re.match(\"([\\w -]+), ([\\w -]+)\", senname)\n",
    "    senfirstname = m.groups()[1]\n",
    "    senlastname = m.groups()[0]\n",
    "\n",
    "    senparty = dtg_string.strip()\n",
    "    m = re.match(\"- \\(([RDI]) - ([A-Z]{2})\", senparty)\n",
    "    senparty = m.groups()[0]\n",
    "    senstate_abbr = m.groups()[1]\n",
    "    \n",
    "    for row in states_list:\n",
    "        state = row[0]\n",
    "        state_abbr = row[1]\n",
    "        state_id = row[2]\n",
    "        \n",
    "        if state_abbr == senstate_abbr:\n",
    "            break\n",
    "\n",
    "    senators_list.append([senfirstname, senlastname, senparty, senstate_abbr, state, state_id])"
   ]
  },
  {
   "cell_type": "code",
   "execution_count": 2,
   "metadata": {},
   "outputs": [],
   "source": [
    "POSTGRES_HOST = os.getenv('POSTGRES_HOST')\n",
    "POSTGRES_PORT = os.getenv('POSTGRES_PORT')\n",
    "POSTGRES_USER = os.getenv('POSTGRES_USER')\n",
    "POSTGRES_HC_DB = os.getenv('POSTGRES_HC_DB')\n",
    "\n",
    "connection_args = {\n",
    "    'host': POSTGRES_HOST,\n",
    "    'user': POSTGRES_USER,\n",
    "    'dbname': POSTGRES_HC_DB,\n",
    "    'port': POSTGRES_PORT\n",
    "}\n",
    "\n",
    "connection = pg.connect(**connection_args)"
   ]
  },
  {
   "cell_type": "code",
   "execution_count": 7,
   "metadata": {},
   "outputs": [],
   "source": [
    "cursor = connection.cursor()\n",
    "\n",
    "# Delete table if exists\n",
    "query = \"TRUNCATE senators RESTART IDENTITY;\"\n",
    "cursor.execute(query)\n",
    "connection.commit()\n",
    "\n",
    "for fname, lname, party, state_abbr, state, state_id in senators_list:\n",
    "    query =  \"INSERT INTO senators (fname, lname, party, state_abbr, state, statefip) VALUES (%s, %s, %s, %s, %s, %s);\"\n",
    "    data = (fname, lname, party, state_abbr, state, state_id)\n",
    "\n",
    "    cursor.execute(query, data)\n",
    "    connection.commit()\n",
    "\n",
    "cursor.close()"
   ]
  },
  {
   "cell_type": "code",
   "execution_count": 8,
   "metadata": {},
   "outputs": [],
   "source": [
    "query = \"SELECT party, state_abbr, statefip, '' AS party_cnt FROM senators\"\n",
    "dfs = pd_sql.read_sql(query, connection)"
   ]
  },
  {
   "cell_type": "code",
   "execution_count": 9,
   "metadata": {},
   "outputs": [],
   "source": [
    "# Add `party_cnt` column: 1=split ticket, 2=Democrat (both), 3=Republican (both)\n",
    "dfs = dfs.groupby(['state_abbr', 'party']).agg({'statefip': 'first', 'party_cnt':'count'}).reset_index()\n",
    "dfs.loc[(dfs['party'] == 'R') & (dfs['party_cnt'] == 2), 'party_cnt'] = 3\n",
    "dfs = dfs.groupby(['statefip']).agg({'party_cnt': 'first'}).reset_index()"
   ]
  },
  {
   "cell_type": "code",
   "execution_count": 10,
   "metadata": {},
   "outputs": [],
   "source": [
    "dfs.to_csv('data/sen_state_party_split.csv', index=None)"
   ]
  }
 ],
 "metadata": {
  "kernelspec": {
   "display_name": "metis",
   "language": "python",
   "name": "metis"
  },
  "language_info": {
   "codemirror_mode": {
    "name": "ipython",
    "version": 3
   },
   "file_extension": ".py",
   "mimetype": "text/x-python",
   "name": "python",
   "nbconvert_exporter": "python",
   "pygments_lexer": "ipython3",
   "version": "3.7.4"
  }
 },
 "nbformat": 4,
 "nbformat_minor": 4
}

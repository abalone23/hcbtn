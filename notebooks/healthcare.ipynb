{
 "cells": [
  {
   "cell_type": "code",
   "execution_count": 1,
   "metadata": {},
   "outputs": [
    {
     "name": "stderr",
     "output_type": "stream",
     "text": [
      "Using TensorFlow backend.\n"
     ]
    }
   ],
   "source": [
    "import os\n",
    "import numpy as np\n",
    "import pandas as pd\n",
    "import seaborn as sns; sns.set()\n",
    "import matplotlib.pyplot as plt\n",
    "import psycopg2 as pg\n",
    "import pandas.io.sql as pd_sql\n",
    "import pickle\n",
    "from collections import OrderedDict, Counter\n",
    "from statsmodels.stats.weightstats import DescrStatsW\n",
    "from sklearn.metrics import recall_score, precision_score, accuracy_score, f1_score, classification_report, confusion_matrix, roc_auc_score, roc_curve, log_loss\n",
    "from sklearn.naive_bayes import BernoulliNB, MultinomialNB, GaussianNB, ComplementNB\n",
    "from sklearn.linear_model import LogisticRegression\n",
    "from sklearn.model_selection import train_test_split, GridSearchCV, cross_val_score, KFold, cross_validate\n",
    "from xgboost import XGBClassifier\n",
    "from sklearn import svm, naive_bayes, neighbors, ensemble\n",
    "from sklearn.dummy import DummyClassifier\n",
    "from sklearn.svm import SVC\n",
    "from imblearn.over_sampling import RandomOverSampler, SMOTE, ADASYN\n",
    "from sklearn.datasets import make_classification"
   ]
  },
  {
   "cell_type": "code",
   "execution_count": 2,
   "metadata": {},
   "outputs": [],
   "source": [
    "health_options = ['With health insurance coverage', 'No health insurance coverage']"
   ]
  },
  {
   "cell_type": "code",
   "execution_count": 3,
   "metadata": {},
   "outputs": [],
   "source": [
    "df = pd.read_csv('healthcare.csv')"
   ]
  },
  {
   "cell_type": "code",
   "execution_count": 4,
   "metadata": {},
   "outputs": [],
   "source": [
    "# STATEFIP used so PWSTATE not needed; 2017 so YEAR not needed\n",
    "df = df.drop(['PWSTATE2', 'YEAR', 'DATANUM', 'SERIAL', 'CBSERIAL', 'HHWT', 'DIVINYR',\n",
    "              'GQ', 'PERNUM', 'EDUCD', 'RACED', 'EMPSTATD', 'INCTOT', 'VETSTATD'], axis=1)"
   ]
  },
  {
   "cell_type": "code",
   "execution_count": 5,
   "metadata": {},
   "outputs": [],
   "source": [
    "df.columns = df.columns.str.lower()"
   ]
  },
  {
   "cell_type": "code",
   "execution_count": 6,
   "metadata": {},
   "outputs": [],
   "source": [
    "# Change hcovany: 0: has health insurance, 1: no health insurance\n",
    "df['hcovany'] = df['hcovany'].replace([2], [0])"
   ]
  },
  {
   "cell_type": "code",
   "execution_count": 7,
   "metadata": {},
   "outputs": [
    {
     "data": {
      "text/plain": [
       "0.03"
      ]
     },
     "execution_count": 7,
     "metadata": {},
     "output_type": "execute_result"
    }
   ],
   "source": [
    "round(df['perwt'][(df['diffcare'] == 2) & (df['hcovany'] == 1)].sum() / df['perwt'][(df['diffcare'] == 2) & (df['hcovany'] == 0)].sum(), 2)"
   ]
  },
  {
   "cell_type": "code",
   "execution_count": 8,
   "metadata": {},
   "outputs": [
    {
     "data": {
      "text/plain": [
       "0.03"
      ]
     },
     "execution_count": 8,
     "metadata": {},
     "output_type": "execute_result"
    }
   ],
   "source": [
    "# 0-N/A 1-No 2-Yes\n",
    "round(df['perwt'][(df['diffcare'] == 2) & (df['hcovany'] == 1)].sum() / df['perwt'][(df['diffcare'] == 2) & (df['hcovany'] == 0)].sum(), 2)"
   ]
  },
  {
   "cell_type": "code",
   "execution_count": 9,
   "metadata": {},
   "outputs": [],
   "source": [
    "# People who have difficulty caring for themselves have health insurance so drop feature:\n",
    "df = df.drop(['diffcare'], axis=1)"
   ]
  },
  {
   "cell_type": "code",
   "execution_count": 10,
   "metadata": {},
   "outputs": [
    {
     "data": {
      "text/plain": [
       "0.1"
      ]
     },
     "execution_count": 10,
     "metadata": {},
     "output_type": "execute_result"
    }
   ],
   "source": [
    "#0-N/A 1-No vision or hearing difficulty 2-Has vision or hearing difficulty\n",
    "round(df['perwt'][(df['diffsens'] == 1) & (df['hcovany'] == 1)].sum() / df['perwt'][(df['diffsens'] == 1) & (df['hcovany'] == 0)].sum(), 2)"
   ]
  },
  {
   "cell_type": "code",
   "execution_count": 11,
   "metadata": {},
   "outputs": [],
   "source": [
    "# People who have vision/hearing difficulties have almost the same rate of health insurance so drop feature:\n",
    "df = df.drop(['diffsens'], axis=1)"
   ]
  },
  {
   "cell_type": "code",
   "execution_count": 12,
   "metadata": {},
   "outputs": [
    {
     "data": {
      "text/plain": [
       "0.03"
      ]
     },
     "execution_count": 12,
     "metadata": {},
     "output_type": "execute_result"
    }
   ],
   "source": [
    "#0-N/A 1-Not a veteran 2-Veteran 9-Unknown\n",
    "round(df['perwt'][(df['vetstat'] == 2) & (df['hcovany'] == 1)].sum() / df['perwt'][(df['vetstat'] == 2) & (df['hcovany'] == 0)].sum(), 2)"
   ]
  },
  {
   "cell_type": "code",
   "execution_count": 13,
   "metadata": {},
   "outputs": [],
   "source": [
    "# People who are veterans have health insurance so drop feature:\n",
    "df = df.drop(['vetstat'], axis=1)"
   ]
  },
  {
   "cell_type": "code",
   "execution_count": 14,
   "metadata": {},
   "outputs": [],
   "source": [
    "#temp drop\n",
    "df = df.drop(['countyfip', 'city', 'hcovpriv', 'hcovpub'], axis=1)"
   ]
  },
  {
   "cell_type": "markdown",
   "metadata": {},
   "source": [
    "**perwt**  \n",
    "perwt is a 6-digit numeric variable which indicates how many persons in the U.S. population are represented by a given person in an IPUMS sample and has two implied decimals.\n",
    "\n",
    "**SEX**  \n",
    "1-Male:2-Female  \n",
    "\n",
    "**MARST** (Marital Status)  \n",
    "1-Married, spouse present\n",
    "2-Married, spouse absent\n",
    "3-Separated\n",
    "4-Divorced\n",
    "5-Widowed\n",
    "6-Never married/single\n",
    "\n",
    "**DIVINYR** (Divorced in the past year)  \n",
    "0-N/A\n",
    "1-No\n",
    "2-Yes\n",
    "\n",
    "**RACE**  \n",
    "1-White\n",
    "2-Black/African American/Negro\n",
    "3-American Indian or Alaska Native\n",
    "4-Chinese\n",
    "5-Japanese\n",
    "6-Other Asian or Pacific Islander\n",
    "7-Other race, nec\n",
    "8-Two major races\n",
    "9-Three or more major races\n",
    "\n",
    "**CITIZEN**  \n",
    "0-N/A\n",
    "1-Born abroad of American parents\n",
    "2-Naturalized citizen\n",
    "3-Not a citizen  \n",
    "\n",
    "**SPEAKENG** (Speaks English)  \n",
    "0-N/A or blank\n",
    "1-Does not speak English\n",
    "2-Yes, speaks English...\n",
    "3-Yes, speaks only English\n",
    "4-Yes, speaks very well\n",
    "5-Yes, speaks well\n",
    "6-Yes, but not well  \n",
    "\n",
    "**hcovany** (Health Insurance)  \n",
    "1-No health insurance coverage\n",
    "2-With health insurance coverage  \n",
    "\n",
    "**HCOVPRIV** (Private health insurance coverage)  \n",
    "1-Without private health insurance coverage\n",
    "2-With private health insurance coverage\n",
    "\n",
    "**HCOVPUB** (Public health insurance coverage)  \n",
    "1-Without public health insurance coverage\n",
    "2-With public health insurance coverage\n",
    "\n",
    "**EDUC/EDUCD** (Education)\n",
    "00-N/A or no schooling\n",
    "01-Nursery school to grade 4\n",
    "02-Grade 5, 6, 7, or 8\n",
    "03-Grade 9\n",
    "04-Grade 10\n",
    "05-Grade 11\n",
    "06-Grade 12\n",
    "07-1 year of college\n",
    "08-2 years of college\n",
    "10-4 years of college\n",
    "11-5+ years of college  \n",
    "\n",
    "**EMPSTAT/EMPSTAD**\n",
    "0-N/A\n",
    "1-Employed\n",
    "2-Unemployed\n",
    "3-Not in labor force  \n",
    "\n",
    "**INCTOT** (Total personal income)  \n",
    "\n",
    "**ftotinc** (Total family income)  \n",
    "9999999 = N/A\n",
    "\n",
    "**PWSTATE2** (Place of work: state)  "
   ]
  },
  {
   "cell_type": "code",
   "execution_count": 15,
   "metadata": {},
   "outputs": [],
   "source": [
    "#don't include children:\n",
    "df = df[(df['ftotinc'] < 9999999) & (df['ftotinc'] >= 0)]\n",
    "df = df[(df['age'] < 120) & (df['age'] >= 18)]"
   ]
  },
  {
   "cell_type": "code",
   "execution_count": 16,
   "metadata": {},
   "outputs": [],
   "source": [
    "# low income: 1, middle income: 2, upper income: 3\n",
    "# convert it from categorical to integer type\n",
    "df['incbrack'] = pd.cut(df['ftotinc'], [-1, 40000, 90000, 3000000], labels=['low_income', 'middle_income', 'upper_income'])"
   ]
  },
  {
   "cell_type": "code",
   "execution_count": 17,
   "metadata": {},
   "outputs": [],
   "source": [
    "# child: 1, working_age: 2, retired_age: 3\n",
    "# convert it from categorical to integer type\n",
    "df['agebrack'] = pd.cut(df['age'], [17, 25, 64, 120], labels=['young_adult', 'adult', 'senior'])"
   ]
  },
  {
   "cell_type": "code",
   "execution_count": 18,
   "metadata": {},
   "outputs": [
    {
     "data": {
      "text/plain": [
       "upper_income     850148\n",
       "middle_income    798293\n",
       "low_income       736238\n",
       "Name: incbrack, dtype: int64"
      ]
     },
     "execution_count": 18,
     "metadata": {},
     "output_type": "execute_result"
    }
   ],
   "source": [
    "df['incbrack'].value_counts()"
   ]
  },
  {
   "cell_type": "code",
   "execution_count": 19,
   "metadata": {},
   "outputs": [],
   "source": [
    "# since separate models will be created for each state, party proxy no longer needed\n",
    "# CSV is generated from senators notebook\n",
    "# dfs = pd.read_csv('sen_state_party_split.csv')"
   ]
  },
  {
   "cell_type": "code",
   "execution_count": 20,
   "metadata": {},
   "outputs": [],
   "source": [
    "# df = pd.merge(df, dfs, on='statefip', how='left')"
   ]
  },
  {
   "cell_type": "code",
   "execution_count": null,
   "metadata": {},
   "outputs": [],
   "source": []
  },
  {
   "cell_type": "code",
   "execution_count": 21,
   "metadata": {},
   "outputs": [],
   "source": [
    "# ages and incomes have been binned so delete corresponding continuous features\n",
    "df = df.drop(['age', 'ftotinc'], axis=1)"
   ]
  },
  {
   "cell_type": "code",
   "execution_count": 22,
   "metadata": {},
   "outputs": [],
   "source": [
    "# Drop NaNs; DC=11 since no senators:\n",
    "df = df.dropna()"
   ]
  },
  {
   "cell_type": "code",
   "execution_count": 23,
   "metadata": {},
   "outputs": [],
   "source": [
    "df['sex'] = df['sex'].replace([1, 2], ['male', 'female'])"
   ]
  },
  {
   "cell_type": "code",
   "execution_count": 24,
   "metadata": {},
   "outputs": [
    {
     "data": {
      "text/plain": [
       "0.12"
      ]
     },
     "execution_count": 24,
     "metadata": {},
     "output_type": "execute_result"
    }
   ],
   "source": [
    "# added _ so married isn't dropped when one hot encoded but that isn't really needed\n",
    "df['marst'] = df['marst'].replace([2, 3, 5], [1, 4, 6])\n",
    "df['marst'] = df['marst'].replace([6, 1, 4], ['single', '_married', 'divorced'])\n",
    "round(df['perwt'][(df['marst'] == 'divorced') & (df['hcovany'] == 1)].sum() / df['perwt'][(df['marst'] == 'divorced')].sum(), 2)"
   ]
  },
  {
   "cell_type": "code",
   "execution_count": 25,
   "metadata": {},
   "outputs": [
    {
     "data": {
      "text/plain": [
       "_married    1346267\n",
       "single       726176\n",
       "divorced     312236\n",
       "Name: marst, dtype: int64"
      ]
     },
     "execution_count": 25,
     "metadata": {},
     "output_type": "execute_result"
    }
   ],
   "source": [
    "df['marst'].value_counts()"
   ]
  },
  {
   "cell_type": "code",
   "execution_count": 26,
   "metadata": {},
   "outputs": [],
   "source": [
    "df['race'] = df['race'].replace([6, 7, 8, 5, 9], [4, 3, 3, 4, 3])\n",
    "df['race'] = df['race'].replace([1, 2, 3, 4], ['white', 'black', 'other', 'asian'])"
   ]
  },
  {
   "cell_type": "code",
   "execution_count": 27,
   "metadata": {},
   "outputs": [
    {
     "data": {
      "text/plain": [
       "0.32"
      ]
     },
     "execution_count": 27,
     "metadata": {},
     "output_type": "execute_result"
    }
   ],
   "source": [
    "df['citizen'] = df['citizen'].replace([0, 1, 2, 3], ['other', 'other', 'other', 'not_citizen'])\n",
    "round(df['perwt'][(df['citizen'] == 'not_citizen') & (df['hcovany'] == 1)].sum() / df['perwt'][(df['citizen'] == 'not_citizen')].sum(), 2)"
   ]
  },
  {
   "cell_type": "code",
   "execution_count": 28,
   "metadata": {},
   "outputs": [
    {
     "data": {
      "text/plain": [
       "0.3"
      ]
     },
     "execution_count": 28,
     "metadata": {},
     "output_type": "execute_result"
    }
   ],
   "source": [
    "#0-N/A or blank 1-Does not speak English 2-Yes, speaks English... 3-Yes, speaks only English 4-Yes, speaks very well 5-Yes, speaks well 6-Yes, but not well\n",
    "df['speakeng'] = df['speakeng'].replace([1, 0, 2, 3, 4, 5, 6], ['no_english', 'other', 'english', 'english', 'english', 'english', 'poor_english'])\n",
    "round(df['perwt'][(df['speakeng'] == 'poor_english') & (df['hcovany'] == 1)].sum() / df['perwt'][(df['speakeng'] == 'poor_english')].sum(), 2)"
   ]
  },
  {
   "cell_type": "code",
   "execution_count": 29,
   "metadata": {},
   "outputs": [
    {
     "data": {
      "text/plain": [
       "0.28"
      ]
     },
     "execution_count": 29,
     "metadata": {},
     "output_type": "execute_result"
    }
   ],
   "source": [
    "#00-N/A or no schooling 01-Nursery school to grade 4 02-Grade 5, 6, 7, or 8 03-Grade 9 04-Grade 10 05-Grade 11 06-Grade 12 07-1 year of college 08-2 years of college 10-4 years of college 11-5+ years of college\n",
    "df['educ'] = df['educ'].replace([0, 1, 2, 3, 4, 5, 6, 7, 8, 10, 11], ['other', 'other', 'middle_school', 'high_school', 'high_school', 'high_school', 'high_school', 'some_college', 'some_college', 'college', 'grad_school'])\n",
    "round(df['perwt'][(df['educ'] == 'middle_school') & (df['hcovany'] == 1)].sum() / df['perwt'][(df['educ'] == 'middle_school')].sum(), 2)"
   ]
  },
  {
   "cell_type": "code",
   "execution_count": 30,
   "metadata": {},
   "outputs": [
    {
     "data": {
      "text/plain": [
       "0.26"
      ]
     },
     "execution_count": 30,
     "metadata": {},
     "output_type": "execute_result"
    }
   ],
   "source": [
    "#0-N/A 1-Employed 2-Unemployed 3-Not in labor force\n",
    "df['empstat'] = df['empstat'].replace([2, 0, 1, 3], ['unemployed', 'other', 'employed', 'not_in_labor_force'])\n",
    "round(df['perwt'][(df['empstat'] == 'unemployed') & (df['hcovany'] == 1)].sum() / df['perwt'][(df['empstat'] == 'unemployed')].sum(), 2)"
   ]
  },
  {
   "cell_type": "code",
   "execution_count": 31,
   "metadata": {},
   "outputs": [],
   "source": [
    "# df['PARTY_CNT'] = df['PARTY_CNT'].astype(int)\n",
    "# df['party_cnt'] = df['party_cnt'].replace([1, 2, 3], ['split', 'full_d', 'full_r'])\n",
    "# round(df['perwt'][(df['party_cnt'] == 'full_r') & (df['hcovany'] == 1)].sum() / df['perwt'][(df['party_cnt'] == 'full_r')].sum(), 2)"
   ]
  },
  {
   "cell_type": "code",
   "execution_count": 32,
   "metadata": {},
   "outputs": [
    {
     "data": {
      "text/plain": [
       "0.12"
      ]
     },
     "execution_count": 32,
     "metadata": {},
     "output_type": "execute_result"
    }
   ],
   "source": [
    "round(df['perwt'][(df['marst'] == 'divorced') & (df['hcovany'] == 1)].sum() / df['perwt'][(df['marst'] == 'divorced')].sum(), 2)"
   ]
  },
  {
   "cell_type": "code",
   "execution_count": 33,
   "metadata": {},
   "outputs": [
    {
     "data": {
      "text/plain": [
       "0.14"
      ]
     },
     "execution_count": 33,
     "metadata": {},
     "output_type": "execute_result"
    }
   ],
   "source": [
    "round(df['perwt'][(df['marst'] == 'single') & (df['hcovany'] == 1)].sum() / df['perwt'][(df['marst'] == 'single')].sum(), 2)"
   ]
  },
  {
   "cell_type": "code",
   "execution_count": 34,
   "metadata": {},
   "outputs": [
    {
     "data": {
      "text/html": [
       "<div>\n",
       "<style scoped>\n",
       "    .dataframe tbody tr th:only-of-type {\n",
       "        vertical-align: middle;\n",
       "    }\n",
       "\n",
       "    .dataframe tbody tr th {\n",
       "        vertical-align: top;\n",
       "    }\n",
       "\n",
       "    .dataframe thead th {\n",
       "        text-align: right;\n",
       "    }\n",
       "</style>\n",
       "<table border=\"1\" class=\"dataframe\">\n",
       "  <thead>\n",
       "    <tr style=\"text-align: right;\">\n",
       "      <th></th>\n",
       "      <th>statefip</th>\n",
       "      <th>perwt</th>\n",
       "      <th>sex</th>\n",
       "      <th>marst</th>\n",
       "      <th>race</th>\n",
       "      <th>citizen</th>\n",
       "      <th>speakeng</th>\n",
       "      <th>hcovany</th>\n",
       "      <th>educ</th>\n",
       "      <th>empstat</th>\n",
       "      <th>incbrack</th>\n",
       "      <th>agebrack</th>\n",
       "    </tr>\n",
       "  </thead>\n",
       "  <tbody>\n",
       "    <tr>\n",
       "      <th>192441</th>\n",
       "      <td>6</td>\n",
       "      <td>58</td>\n",
       "      <td>male</td>\n",
       "      <td>single</td>\n",
       "      <td>white</td>\n",
       "      <td>other</td>\n",
       "      <td>english</td>\n",
       "      <td>0</td>\n",
       "      <td>high_school</td>\n",
       "      <td>employed</td>\n",
       "      <td>middle_income</td>\n",
       "      <td>adult</td>\n",
       "    </tr>\n",
       "  </tbody>\n",
       "</table>\n",
       "</div>"
      ],
      "text/plain": [
       "        statefip  perwt   sex   marst   race citizen speakeng  hcovany  \\\n",
       "192441         6     58  male  single  white   other  english        0   \n",
       "\n",
       "               educ   empstat       incbrack agebrack  \n",
       "192441  high_school  employed  middle_income    adult  "
      ]
     },
     "execution_count": 34,
     "metadata": {},
     "output_type": "execute_result"
    }
   ],
   "source": [
    "df.sample()"
   ]
  },
  {
   "cell_type": "code",
   "execution_count": 35,
   "metadata": {},
   "outputs": [
    {
     "data": {
      "text/plain": [
       "0    2195800\n",
       "1     188879\n",
       "Name: hcovany, dtype: int64"
      ]
     },
     "execution_count": 35,
     "metadata": {},
     "output_type": "execute_result"
    }
   ],
   "source": [
    "df['hcovany'].value_counts()"
   ]
  },
  {
   "cell_type": "code",
   "execution_count": 36,
   "metadata": {},
   "outputs": [],
   "source": [
    "df = pd.get_dummies(df, columns=['sex', 'marst', 'race', 'citizen', \n",
    "                                 'speakeng', 'educ', 'empstat', 'incbrack', \n",
    "                                 'agebrack'], drop_first=True)"
   ]
  },
  {
   "cell_type": "code",
   "execution_count": 37,
   "metadata": {},
   "outputs": [
    {
     "data": {
      "text/plain": [
       "0.1"
      ]
     },
     "execution_count": 37,
     "metadata": {},
     "output_type": "execute_result"
    }
   ],
   "source": [
    "# total uninsured rate in the US:\n",
    "round(df['perwt'][df['hcovany'] == 1].sum() / df['perwt'].sum(), 2)"
   ]
  },
  {
   "cell_type": "code",
   "execution_count": 38,
   "metadata": {},
   "outputs": [
    {
     "data": {
      "text/html": [
       "<div>\n",
       "<style scoped>\n",
       "    .dataframe tbody tr th:only-of-type {\n",
       "        vertical-align: middle;\n",
       "    }\n",
       "\n",
       "    .dataframe tbody tr th {\n",
       "        vertical-align: top;\n",
       "    }\n",
       "\n",
       "    .dataframe thead th {\n",
       "        text-align: right;\n",
       "    }\n",
       "</style>\n",
       "<table border=\"1\" class=\"dataframe\">\n",
       "  <thead>\n",
       "    <tr style=\"text-align: right;\">\n",
       "      <th></th>\n",
       "      <th>statefip</th>\n",
       "      <th>perwt</th>\n",
       "      <th>hcovany</th>\n",
       "      <th>sex_male</th>\n",
       "      <th>marst_divorced</th>\n",
       "      <th>marst_single</th>\n",
       "      <th>race_black</th>\n",
       "      <th>race_other</th>\n",
       "      <th>race_white</th>\n",
       "      <th>citizen_other</th>\n",
       "      <th>...</th>\n",
       "      <th>educ_high_school</th>\n",
       "      <th>educ_middle_school</th>\n",
       "      <th>educ_other</th>\n",
       "      <th>educ_some_college</th>\n",
       "      <th>empstat_not_in_labor_force</th>\n",
       "      <th>empstat_unemployed</th>\n",
       "      <th>incbrack_middle_income</th>\n",
       "      <th>incbrack_upper_income</th>\n",
       "      <th>agebrack_adult</th>\n",
       "      <th>agebrack_senior</th>\n",
       "    </tr>\n",
       "  </thead>\n",
       "  <tbody>\n",
       "    <tr>\n",
       "      <th>1955312</th>\n",
       "      <td>36</td>\n",
       "      <td>114</td>\n",
       "      <td>0</td>\n",
       "      <td>0</td>\n",
       "      <td>0</td>\n",
       "      <td>0</td>\n",
       "      <td>0</td>\n",
       "      <td>0</td>\n",
       "      <td>1</td>\n",
       "      <td>1</td>\n",
       "      <td>...</td>\n",
       "      <td>1</td>\n",
       "      <td>0</td>\n",
       "      <td>0</td>\n",
       "      <td>0</td>\n",
       "      <td>1</td>\n",
       "      <td>0</td>\n",
       "      <td>0</td>\n",
       "      <td>0</td>\n",
       "      <td>0</td>\n",
       "      <td>1</td>\n",
       "    </tr>\n",
       "  </tbody>\n",
       "</table>\n",
       "<p>1 rows × 23 columns</p>\n",
       "</div>"
      ],
      "text/plain": [
       "         statefip  perwt  hcovany  sex_male  marst_divorced  marst_single  \\\n",
       "1955312        36    114        0         0               0             0   \n",
       "\n",
       "         race_black  race_other  race_white  citizen_other  ...  \\\n",
       "1955312           0           0           1              1  ...   \n",
       "\n",
       "         educ_high_school  educ_middle_school  educ_other  educ_some_college  \\\n",
       "1955312                 1                   0           0                  0   \n",
       "\n",
       "         empstat_not_in_labor_force  empstat_unemployed  \\\n",
       "1955312                           1                   0   \n",
       "\n",
       "         incbrack_middle_income  incbrack_upper_income  agebrack_adult  \\\n",
       "1955312                       0                      0               0   \n",
       "\n",
       "         agebrack_senior  \n",
       "1955312                1  \n",
       "\n",
       "[1 rows x 23 columns]"
      ]
     },
     "execution_count": 38,
     "metadata": {},
     "output_type": "execute_result"
    }
   ],
   "source": [
    "df.sample()"
   ]
  },
  {
   "cell_type": "markdown",
   "metadata": {},
   "source": [
    "### Weights testing"
   ]
  },
  {
   "cell_type": "code",
   "execution_count": 39,
   "metadata": {},
   "outputs": [],
   "source": [
    "d1 = DescrStatsW(df['perwt'], weights=df['perwt'])\n",
    "# d1.sum\n",
    "# df['perwt'].count()\n",
    "# df.head()\n",
    "# d1 = DescrStatsW(df['ftotinc'], weights=df['perwt'])\n",
    "# weighted_inc_mean = d1.mean\n",
    "# income_mean = df['ftotinc'].mean()\n",
    "# print(f'Income (avg): {round(income_mean)} Weighted Income (avg): {round(weighted_inc_mean)}')"
   ]
  },
  {
   "cell_type": "code",
   "execution_count": 2,
   "metadata": {},
   "outputs": [],
   "source": [
    "POSTGRES_HOST = os.getenv('POSTGRES_HOST')\n",
    "POSTGRES_PORT = os.getenv('POSTGRES_PORT')\n",
    "POSTGRES_USER = os.getenv('POSTGRES_USER')\n",
    "POSTGRES_HC_DB = os.getenv('POSTGRES_HC_DB')\n",
    "\n",
    "connection_args = {\n",
    "    'host': POSTGRES_HOST,\n",
    "    'user': POSTGRES_USER,\n",
    "    'dbname': POSTGRES_HC_DB,\n",
    "    'port': POSTGRES_PORT\n",
    "}\n",
    "\n",
    "connection = pg.connect(**connection_args)"
   ]
  },
  {
   "cell_type": "code",
   "execution_count": null,
   "metadata": {},
   "outputs": [],
   "source": [
    "# Used to generate dropdown list for flask app\n",
    "# ('ak', 'Alaska'), ('al', 'Alabama')\n",
    "\n",
    "# query =  \"SELECT DISTINCT state, state_abbr FROM states ORDER BY state_abbr\"\n",
    "# dfs = pd_sql.read_sql(query, connection)\n",
    "# states_lst = []\n",
    "# for i, row in dfs.iterrows():\n",
    "#     state = row['state']\n",
    "#     state_abbr = row['state_abbr'].lower()\n",
    "#     states_lst.append(f\"('{state_abbr}', '{state}')\")\n",
    "\n",
    "# print(', '.join(states_lst))"
   ]
  },
  {
   "cell_type": "code",
   "execution_count": null,
   "metadata": {},
   "outputs": [],
   "source": [
    "# Generate bar charts for each state:\n",
    "def gen_charts():\n",
    "    query =  \"SELECT DISTINCT statefip, state_abbr, state, pct_uninsured_tot, pct_uninsured_sex_male, pct_uninsured_sex_female, \\\n",
    "                                             pct_uninsured_marst_divorced, pct_uninsured_marst_single, pct_uninsured_marst__married, \\\n",
    "                                             pct_uninsured_race_black, pct_uninsured_race_white, pct_uninsured_race_asian, \\\n",
    "                                             pct_uninsured_race_other, pct_uninsured_citizen_other, pct_uninsured_citizen_not_citizen, \\\n",
    "                                             pct_uninsured_speakeng_english, pct_uninsured_speakeng_poor_english, \\\n",
    "                                             pct_uninsured_speakeng_no_english, pct_uninsured_educ_middle_school, \\\n",
    "                                             pct_uninsured_educ_college, pct_uninsured_educ_high_school, pct_uninsured_educ_some_college, \\\n",
    "                                             pct_uninsured_educ_grad_school, pct_uninsured_educ_other, \\\n",
    "                                             pct_uninsured_empstat_not_in_labor_force, pct_uninsured_empstat_employed, \\\n",
    "                                             pct_uninsured_empstat_unemployed, pct_uninsured_incbrack_low_income, \\\n",
    "                                             pct_uninsured_incbrack_upper_income, pct_uninsured_incbrack_middle_income, \\\n",
    "                                             pct_uninsured_agebrack_senior, pct_uninsured_agebrack_adult, \\\n",
    "                                             pct_uninsured_agebrack_young_adult \\\n",
    "              FROM states where state_abbr = 'GA'\"\n",
    "    dfs = pd_sql.read_sql(query, connection)\n",
    "\n",
    "    stats_lst = []\n",
    "    labels_lst = ['Male', 'Female', 'Divorced', 'Single', 'Married', 'Black', 'White', 'Asian', 'Race - Other',\n",
    "                  'Citizen', 'Not Citizen', 'Speaks English', 'Poor English', 'No English', '< High School',\n",
    "                  'College', 'High School', 'Some College', 'Grad School', 'School - Other', 'Not in Labor Force', 'Employed', 'Unemployed',\n",
    "                  'Low Income', 'Upper Income', 'Middle Income', 'Senior (65+)', 'Adult (26 - 64)', 'Young Adult']\n",
    "\n",
    "    for i, row in dfs.iterrows():\n",
    "        state_abbr = row['state_abbr'].lower()\n",
    "        state = row['state']\n",
    "        pct_uninsured_sex_male = row['pct_uninsured_sex_male']\n",
    "        pct_uninsured_sex_female = row['pct_uninsured_sex_female']\n",
    "        pct_uninsured_marst_divorced = row['pct_uninsured_marst_divorced']\n",
    "        pct_uninsured_marst_single = row['pct_uninsured_marst_single']\n",
    "        pct_uninsured_marst__married = row['pct_uninsured_marst__married']\n",
    "        pct_uninsured_race_black = row['pct_uninsured_race_black']\n",
    "        pct_uninsured_race_white = row['pct_uninsured_race_white']\n",
    "        pct_uninsured_race_asian = row['pct_uninsured_race_asian']\n",
    "        pct_uninsured_race_other = row['pct_uninsured_race_other']\n",
    "        pct_uninsured_citizen_other = row['pct_uninsured_citizen_other']\n",
    "        pct_uninsured_citizen_not_citizen = row['pct_uninsured_citizen_not_citizen']\n",
    "        pct_uninsured_speakeng_english = row['pct_uninsured_speakeng_english']\n",
    "        pct_uninsured_speakeng_poor_english = row['pct_uninsured_speakeng_poor_english']\n",
    "        pct_uninsured_speakeng_no_english = row['pct_uninsured_speakeng_no_english']\n",
    "        pct_uninsured_educ_middle_school = row['pct_uninsured_educ_middle_school']\n",
    "        pct_uninsured_educ_college = row['pct_uninsured_educ_college']\n",
    "        pct_uninsured_educ_high_school = row['pct_uninsured_educ_high_school']\n",
    "        pct_uninsured_educ_some_college = row['pct_uninsured_educ_some_college']\n",
    "        pct_uninsured_educ_grad_school = row['pct_uninsured_educ_grad_school']\n",
    "        pct_uninsured_educ_other = row['pct_uninsured_educ_other']\n",
    "        pct_uninsured_empstat_not_in_labor_force = row['pct_uninsured_empstat_not_in_labor_force']\n",
    "        pct_uninsured_empstat_employed = row['pct_uninsured_empstat_employed']\n",
    "        pct_uninsured_empstat_unemployed = row['pct_uninsured_empstat_unemployed']\n",
    "        pct_uninsured_incbrack_low_income = row['pct_uninsured_incbrack_low_income']\n",
    "        pct_uninsured_incbrack_upper_income = row['pct_uninsured_incbrack_upper_income']\n",
    "        pct_uninsured_incbrack_middle_income = row['pct_uninsured_incbrack_middle_income']\n",
    "        pct_uninsured_agebrack_senior = row['pct_uninsured_agebrack_senior']\n",
    "        pct_uninsured_agebrack_adult = row['pct_uninsured_agebrack_adult']\n",
    "        pct_uninsured_agebrack_young_adult = row['pct_uninsured_agebrack_young_adult']\n",
    "\n",
    "        stats_lst.append(pct_uninsured_sex_male)\n",
    "        stats_lst.append(pct_uninsured_sex_female)\n",
    "        stats_lst.append(pct_uninsured_marst_divorced)\n",
    "        stats_lst.append(pct_uninsured_marst_single)\n",
    "        stats_lst.append(pct_uninsured_marst__married)\n",
    "        stats_lst.append(pct_uninsured_race_black)\n",
    "        stats_lst.append(pct_uninsured_race_white)\n",
    "        stats_lst.append(pct_uninsured_race_asian)\n",
    "        stats_lst.append(pct_uninsured_race_other)\n",
    "        stats_lst.append(pct_uninsured_citizen_other)\n",
    "        stats_lst.append(pct_uninsured_citizen_not_citizen)\n",
    "        stats_lst.append(pct_uninsured_speakeng_english)\n",
    "        stats_lst.append(pct_uninsured_speakeng_poor_english)   \n",
    "        stats_lst.append(pct_uninsured_speakeng_no_english)   \n",
    "        stats_lst.append(pct_uninsured_educ_middle_school)   \n",
    "        stats_lst.append(pct_uninsured_educ_college)   \n",
    "        stats_lst.append(pct_uninsured_educ_high_school)   \n",
    "        stats_lst.append(pct_uninsured_educ_some_college)   \n",
    "        stats_lst.append(pct_uninsured_educ_grad_school)   \n",
    "        stats_lst.append(pct_uninsured_educ_other)   \n",
    "        stats_lst.append(pct_uninsured_empstat_not_in_labor_force)   \n",
    "        stats_lst.append(pct_uninsured_empstat_employed)   \n",
    "        stats_lst.append(pct_uninsured_empstat_unemployed)   \n",
    "        stats_lst.append(pct_uninsured_incbrack_low_income)   \n",
    "        stats_lst.append(pct_uninsured_incbrack_upper_income)   \n",
    "        stats_lst.append(pct_uninsured_incbrack_middle_income)   \n",
    "        stats_lst.append(pct_uninsured_agebrack_senior)   \n",
    "        stats_lst.append(pct_uninsured_agebrack_adult)   \n",
    "        stats_lst.append(pct_uninsured_agebrack_young_adult)   \n",
    "\n",
    "        y = stats_lst\n",
    "\n",
    "        dfw = pd.DataFrame({\"labels\" : labels_lst,\n",
    "                       \"rate\" : stats_lst})\n",
    "        dfw = dfw.sort_values(by='rate', ascending=False).head(10)\n",
    "        plt.style.use('seaborn-poster')\n",
    "        fig,ax = plt.subplots(figsize=(16,9))\n",
    "        sns.barplot(x='rate', y='labels', orient='h', palette='Reds_r', ax=ax, data=dfw)\n",
    "        ax.set_title(f'{state} Uninsured Rate % (2017)')\n",
    "        ax.set(xlabel='', ylabel='')\n",
    "        # plt.xticks(rotation=45)\n",
    "    #     plt.savefig(f'images/{state_abbr}.png')\n",
    "\n",
    "        stats_lst = []\n",
    "\n",
    "    #     print(state, tot, unemployed, middle_school, divorced, low_income)\n",
    "\n",
    "# gen_charts()"
   ]
  },
  {
   "cell_type": "code",
   "execution_count": null,
   "metadata": {},
   "outputs": [],
   "source": [
    "def update_states_stats():\n",
    "    cursor = connection.cursor()\n",
    "\n",
    "    features2check = ['empstat_unemployed', 'educ_middle_school', 'divinyr_yes', 'marst_divorced', 'incbrack_low_income']\n",
    "    ins_dict = {}\n",
    "\n",
    "    query =  \"SELECT DISTINCT statefip FROM states\"\n",
    "    dfs = pd_sql.read_sql(query, connection)\n",
    "    for i, row in dfs.iterrows():\n",
    "        state_id = int(row['statefip'])\n",
    "        state_count = df['perwt'][(df['statefip'] == state_id)].sum()\n",
    "        no_ins_count = df['perwt'][(df['hcovany'] == 1) & (df['statefip'] == state_id)].sum()\n",
    "\n",
    "        for feature in features2check:\n",
    "            if feature == 'incbrack_low_income':\n",
    "                no_ins_pct = round(df['perwt'][(df['incbrack_middle_income'] == 0) & (df['incbrack_upper_income'] == 0) & (df['hcovany'] == 1) & (df['statefip'] == state_id)].sum() / state_count * 100, 1)\n",
    "            else:\n",
    "                no_ins_pct = round(df['perwt'][(df[feature] == 1) & (df['hcovany'] == 1) & (df['statefip'] == state_id)].sum() / state_count * 100, 1)\n",
    "\n",
    "            query =  \"UPDATE states SET pct_uninsured_\"+feature+\" = %s WHERE statefip = %s;\"\n",
    "            data = (no_ins_pct, state_id)\n",
    "            cursor.execute(query, data)\n",
    "            connection.commit()\n",
    "\n",
    "        no_ins_pct_tot = round(no_ins_count / state_count * 100, 1)\n",
    "\n",
    "        query =  \"UPDATE states SET pct_uninsured_tot = %s WHERE statefip = %s;\"\n",
    "        data = (no_ins_pct_tot, state_id)\n",
    "\n",
    "        cursor.execute(query, data)\n",
    "        connection.commit()\n",
    "\n",
    "    cursor.close()\n",
    "\n",
    "# uncomment to update states stats\n",
    "# update_states_stats()"
   ]
  },
  {
   "cell_type": "code",
   "execution_count": null,
   "metadata": {},
   "outputs": [],
   "source": [
    "# Create individual state pickle files:\n",
    "def create_states_pickle():\n",
    "    query =  \"SELECT DISTINCT state_abbr, statefip FROM states\"\n",
    "\n",
    "    dfs = pd_sql.read_sql(query, connection)\n",
    "    for i, row in dfs.iterrows():\n",
    "        state_abbr_lc = row['state_abbr'].lower()\n",
    "        statefip = int(row['statefip'])\n",
    "        dfss = df[df['statefip'] == statefip]\n",
    "\n",
    "        pickle.dump(dfss, open(f\"data/df_{state_abbr_lc}.pkl\", \"wb\"))        \n",
    "\n",
    "# Uncomment to recreate:\n",
    "create_states_pickle()"
   ]
  },
  {
   "cell_type": "code",
   "execution_count": null,
   "metadata": {},
   "outputs": [],
   "source": [
    "def plot_features(df, sample_size=500):\n",
    "    \n",
    "    sample = (df.drop(['perwt'],axis=1)\n",
    "                .sample(1000, random_state=44)) \n",
    "    sns.pairplot(sample,hue='hcovany', plot_kws=dict(alpha=.3, edgecolor='none'))\n",
    "\n",
    "plot_features(df)"
   ]
  },
  {
   "cell_type": "code",
   "execution_count": null,
   "metadata": {},
   "outputs": [],
   "source": [
    "df.columns"
   ]
  },
  {
   "cell_type": "code",
   "execution_count": null,
   "metadata": {},
   "outputs": [],
   "source": [
    "ax = sns.scatterplot(x=df['incbrack_upper_income'], y=df['educ_grad_school'])"
   ]
  },
  {
   "cell_type": "code",
   "execution_count": null,
   "metadata": {},
   "outputs": [],
   "source": [
    "# 1 = single\n",
    "target_pcts = df['marst_single'].value_counts(normalize=True) \n",
    "target_pcts.plot(kind='bar');"
   ]
  },
  {
   "cell_type": "code",
   "execution_count": 50,
   "metadata": {},
   "outputs": [],
   "source": [
    "# example insurance person: upper_income, grad_school:\n",
    "formdata = OrderedDict({'sex_male': 1, 'marst_divorced': 0, 'marst_single': 0,\n",
    "       'race_black': 0, 'race_other': 0, 'race_white': 1, 'citizen_other': 0,\n",
    "       'speakeng_no_english': 0, 'speakeng_poor_english': 0, 'educ_grad_school': 1,\n",
    "       'educ_high_school': 0, 'educ_middle_school': 0, 'educ_other': 0,\n",
    "       'educ_some_college': 0, 'empstat_not_in_labor_force': 0, 'empstat_unemployed': 0,\n",
    "       'incbrack_middle_income': 0, 'incbrack_upper_income': 1, 'agebrack_adult': 0,\n",
    "       'agebrack_senior': 0})\n",
    "X_ins = pd.DataFrame([formdata])\n",
    "\n",
    "# example insurance person: low_income, poor English, divorced, middle_school education:\n",
    "formdata = OrderedDict({'sex_male': 1, 'marst_divorced': 1, 'marst_single': 0,\n",
    "       'race_black': 0, 'race_other': 0, 'race_white': 0, 'citizen_other': 0,\n",
    "       'speakeng_no_english': 0, 'speakeng_poor_english': 1, 'educ_grad_school': 0,\n",
    "       'educ_high_school': 0, 'educ_middle_school': 1, 'educ_other': 0,\n",
    "       'educ_some_college': 0, 'empstat_not_in_labor_force': 0, 'empstat_unemployed': 0,\n",
    "       'incbrack_middle_income': 0, 'incbrack_upper_income': 0, 'agebrack_adult': 0,\n",
    "       'agebrack_senior': 0})\n",
    "X_noins = pd.DataFrame([formdata])"
   ]
  },
  {
   "cell_type": "markdown",
   "metadata": {},
   "source": [
    "# Models"
   ]
  },
  {
   "cell_type": "code",
   "execution_count": 41,
   "metadata": {},
   "outputs": [],
   "source": [
    "X = df.drop(['hcovany', 'statefip'], axis=1)\n",
    "y = df['hcovany']\n",
    "\n",
    "# X = X.sample(100007)\n",
    "# y = y.sample(100007)\n",
    "\n",
    "X, X_test, y, y_test = train_test_split(X, y, test_size=0.3, random_state=42)\n",
    "X_weight = X['perwt'].copy()"
   ]
  },
  {
   "cell_type": "code",
   "execution_count": 42,
   "metadata": {},
   "outputs": [],
   "source": [
    "# Use recall score for model selection since it's important to find all people without health insurance even at the expense of including more people who do have it\n",
    "def predict_recall(X, y, model):\n",
    "    kf = KFold(n_splits=5, shuffle=True, random_state = 42)\n",
    "    scores_lst = []\n",
    "    \n",
    "    X, y = np.array(X), np.array(y)\n",
    "    \n",
    "    for train_ind, val_ind in kf.split(X, y):\n",
    "        X_train, y_train = X[train_ind][:,1:], y[train_ind]\n",
    "        X_val, y_val = X[val_ind][:,1:], y[val_ind]\n",
    "        X_weight = X_train[:,0] # only include 1st column of array (perwt)\n",
    "            \n",
    "        model.fit(X_train, y_train, sample_weight=X_weight)  \n",
    "\n",
    "#         y_pred = model.predict(X_val)\n",
    "        #lower threshold slightly to capture more uninsured\n",
    "        y_pred = (model.predict_proba(X_val)[:, 1] > 0.4)\n",
    "\n",
    "        scores_lst.append(recall_score(y_val, y_pred))\n",
    "    \n",
    "    avg_rec_score = np.mean(scores_lst)\n",
    "        \n",
    "    return f'Recall Score: {round(avg_rec_score, 3)}'"
   ]
  },
  {
   "cell_type": "markdown",
   "metadata": {},
   "source": [
    "### Dummy (Baseline)"
   ]
  },
  {
   "cell_type": "code",
   "execution_count": 43,
   "metadata": {},
   "outputs": [
    {
     "data": {
      "text/plain": [
       "'Recall Score: 0.09'"
      ]
     },
     "execution_count": 43,
     "metadata": {},
     "output_type": "execute_result"
    }
   ],
   "source": [
    "dcmodel = DummyClassifier()\n",
    "predict_recall(X, y, dcmodel)"
   ]
  },
  {
   "cell_type": "markdown",
   "metadata": {},
   "source": [
    "### Random Forest"
   ]
  },
  {
   "cell_type": "code",
   "execution_count": 44,
   "metadata": {},
   "outputs": [
    {
     "data": {
      "text/plain": [
       "'Recall Score: 0.859'"
      ]
     },
     "execution_count": 44,
     "metadata": {},
     "output_type": "execute_result"
    }
   ],
   "source": [
    "rfmodel = ensemble.RandomForestClassifier(n_estimators=100, n_jobs=-1, class_weight='balanced')\n",
    "predict_recall(X, y, rfmodel)"
   ]
  },
  {
   "cell_type": "code",
   "execution_count": 45,
   "metadata": {},
   "outputs": [
    {
     "data": {
      "text/plain": [
       "[('agebrack_adult', 0.22465439882255628),\n",
       " ('incbrack_middle_income', 0.16684577278412607),\n",
       " ('race_white', 0.10264497873788694),\n",
       " ('marst_divorced', 0.0914880453989108),\n",
       " ('incbrack_upper_income', 0.06585637161701646),\n",
       " ('educ_grad_school', 0.05972615365184893),\n",
       " ('empstat_unemployed', 0.04483572664854471),\n",
       " ('speakeng_poor_english', 0.03587006397570173),\n",
       " ('educ_some_college', 0.03248520451920374),\n",
       " ('empstat_not_in_labor_force', 0.030077439832226643),\n",
       " ('educ_high_school', 0.02840991615690118),\n",
       " ('sex_male', 0.02354185914277972),\n",
       " ('race_black', 0.019665201819961415),\n",
       " ('speakeng_no_english', 0.01663238679866434),\n",
       " ('race_other', 0.01425427075038808),\n",
       " ('educ_other', 0.013534628839961262),\n",
       " ('educ_middle_school', 0.012366193395675426),\n",
       " ('citizen_other', 0.010581452128995274),\n",
       " ('marst_single', 0.006529934978650915),\n",
       " ('perwt', 0.0)]"
      ]
     },
     "execution_count": 45,
     "metadata": {},
     "output_type": "execute_result"
    }
   ],
   "source": [
    "sorted(zip(X_test.columns, rfmodel.feature_importances_), key=lambda x: -x[1])"
   ]
  },
  {
   "cell_type": "markdown",
   "metadata": {},
   "source": [
    "### Logistic Regression with Cross Validation Grid Search"
   ]
  },
  {
   "cell_type": "code",
   "execution_count": 46,
   "metadata": {},
   "outputs": [
    {
     "name": "stdout",
     "output_type": "stream",
     "text": [
      "Optimal C: 0.01\n"
     ]
    },
    {
     "data": {
      "text/plain": [
       "'Recall Score: 0.887'"
      ]
     },
     "execution_count": 46,
     "metadata": {},
     "output_type": "execute_result"
    }
   ],
   "source": [
    "param_grid = {'C': [0.001, 0.01, 0.1, 1, 10]}\n",
    "\n",
    "grid = GridSearchCV(LogisticRegression(solver=\"lbfgs\", max_iter=1000, class_weight='balanced', n_jobs=-1), param_grid, cv=5)\n",
    "grid.fit(X.drop('perwt', axis=1), y, sample_weight=X_weight)\n",
    "optimal_c = grid.best_params_['C']\n",
    "print(f'Optimal C: {optimal_c}')\n",
    "\n",
    "lrmodel = LogisticRegression(solver=\"lbfgs\", max_iter=1000, C=optimal_c, class_weight='balanced', n_jobs=-1)\n",
    "predict_recall(X, y, lrmodel)"
   ]
  },
  {
   "cell_type": "code",
   "execution_count": 47,
   "metadata": {},
   "outputs": [
    {
     "data": {
      "text/plain": [
       "[(1.5382792995880352, 'educ_middle_school'),\n",
       " (1.1753219464434392, 'educ_other'),\n",
       " (0.9332654397042929, 'educ_high_school'),\n",
       " (0.9308733297249299, 'empstat_unemployed'),\n",
       " (0.9097076658528328, 'speakeng_no_english'),\n",
       " (0.7553433979864979, 'marst_single'),\n",
       " (0.6087447485951741, 'race_other'),\n",
       " (0.5489959590184497, 'marst_divorced'),\n",
       " (0.5096981274581197, 'educ_some_college'),\n",
       " (0.5017805391852893, 'speakeng_poor_english'),\n",
       " (0.32211228032896855, 'race_black'),\n",
       " (0.23485304925653633, 'agebrack_adult'),\n",
       " (0.1973283136092506, 'race_white'),\n",
       " (0.00290130496363651, 'sex_male'),\n",
       " (-0.18435618436462908, 'empstat_not_in_labor_force'),\n",
       " (-0.37865862571442066, 'educ_grad_school'),\n",
       " (-0.5611452974099606, 'incbrack_middle_income'),\n",
       " (-1.257803750254649, 'incbrack_upper_income'),\n",
       " (-1.2770883869601568, 'citizen_other'),\n",
       " (-2.811716302827581, 'agebrack_senior')]"
      ]
     },
     "execution_count": 47,
     "metadata": {},
     "output_type": "execute_result"
    }
   ],
   "source": [
    "sorted(list(zip(lrmodel.coef_[0], X_test.drop('perwt', axis=1))), reverse=True)"
   ]
  },
  {
   "cell_type": "markdown",
   "metadata": {},
   "source": [
    "### XGBoost (Oversample)"
   ]
  },
  {
   "cell_type": "code",
   "execution_count": 134,
   "metadata": {},
   "outputs": [],
   "source": [
    "X_smoted, y_smoted = SMOTE(random_state=42).fit_sample(X, y)\n",
    "X_smoted = pd.DataFrame(X_smoted)\n",
    "y_smoted = pd.DataFrame(y_smoted)\n",
    "\n",
    "X_train_smoted, X_test_smoted, y_train_smoted, y_test_smoted = train_test_split(X_smoted, y_smoted, test_size=0.3, random_state=42)\n",
    "X_weight_smoted = X_train_smoted[0].copy().values.reshape(-1)\n",
    "X_smoted = X_smoted.drop(0, axis=1)"
   ]
  },
  {
   "cell_type": "code",
   "execution_count": 140,
   "metadata": {},
   "outputs": [
    {
     "data": {
      "text/plain": [
       "XGBClassifier(base_score=0.5, booster='gbtree', colsample_bylevel=1,\n",
       "              colsample_bytree=1, gamma=0, learning_rate=0.1, max_delta_step=0,\n",
       "              max_depth=3, min_child_weight=1, missing=None, n_estimators=100,\n",
       "              n_jobs=-1, nthread=None, objective='binary:logistic',\n",
       "              random_state=0, reg_alpha=0, reg_lambda=1, scale_pos_weight=1,\n",
       "              seed=None, silent=True, subsample=1)"
      ]
     },
     "execution_count": 140,
     "metadata": {},
     "output_type": "execute_result"
    }
   ],
   "source": [
    "xgbmodel_smoted = XGBClassifier(n_jobs=-1)\n",
    "xgbmodel_smoted.fit(X_train_smoted, y_train_smoted.values.ravel(), sample_weight=X_weight_smoted)"
   ]
  },
  {
   "cell_type": "code",
   "execution_count": 141,
   "metadata": {},
   "outputs": [
    {
     "data": {
      "text/plain": [
       "0.8453268103987712"
      ]
     },
     "execution_count": 141,
     "metadata": {},
     "output_type": "execute_result"
    }
   ],
   "source": [
    "y_smote_pred = xgbmodel_smoted.predict(X_test_smoted)\n",
    "recall_xgb_smote = recall_score(y_test_smoted, y_smote_pred)\n",
    "recall_xgb_smote"
   ]
  },
  {
   "cell_type": "code",
   "execution_count": 53,
   "metadata": {},
   "outputs": [
    {
     "ename": "KeyError",
     "evalue": "\"['perwt'] not found in axis\"",
     "output_type": "error",
     "traceback": [
      "\u001b[0;31m---------------------------------------------------------------------------\u001b[0m",
      "\u001b[0;31mKeyError\u001b[0m                                  Traceback (most recent call last)",
      "\u001b[0;32m<ipython-input-53-31ca872675ad>\u001b[0m in \u001b[0;36m<module>\u001b[0;34m\u001b[0m\n\u001b[0;32m----> 1\u001b[0;31m \u001b[0mX_test\u001b[0m \u001b[0;34m=\u001b[0m \u001b[0mX_test\u001b[0m\u001b[0;34m.\u001b[0m\u001b[0mdrop\u001b[0m\u001b[0;34m(\u001b[0m\u001b[0;34m'perwt'\u001b[0m\u001b[0;34m,\u001b[0m \u001b[0maxis\u001b[0m\u001b[0;34m=\u001b[0m\u001b[0;36m1\u001b[0m\u001b[0;34m)\u001b[0m\u001b[0;34m\u001b[0m\u001b[0;34m\u001b[0m\u001b[0m\n\u001b[0m\u001b[1;32m      2\u001b[0m \u001b[0mX_test_smoted\u001b[0m \u001b[0;34m=\u001b[0m \u001b[0mX_test_smoted\u001b[0m\u001b[0;34m\u001b[0m\u001b[0;34m\u001b[0m\u001b[0m\n",
      "\u001b[0;32m~/anaconda3/envs/metis/lib/python3.7/site-packages/pandas/core/frame.py\u001b[0m in \u001b[0;36mdrop\u001b[0;34m(self, labels, axis, index, columns, level, inplace, errors)\u001b[0m\n\u001b[1;32m   3938\u001b[0m                                            \u001b[0mindex\u001b[0m\u001b[0;34m=\u001b[0m\u001b[0mindex\u001b[0m\u001b[0;34m,\u001b[0m \u001b[0mcolumns\u001b[0m\u001b[0;34m=\u001b[0m\u001b[0mcolumns\u001b[0m\u001b[0;34m,\u001b[0m\u001b[0;34m\u001b[0m\u001b[0;34m\u001b[0m\u001b[0m\n\u001b[1;32m   3939\u001b[0m                                            \u001b[0mlevel\u001b[0m\u001b[0;34m=\u001b[0m\u001b[0mlevel\u001b[0m\u001b[0;34m,\u001b[0m \u001b[0minplace\u001b[0m\u001b[0;34m=\u001b[0m\u001b[0minplace\u001b[0m\u001b[0;34m,\u001b[0m\u001b[0;34m\u001b[0m\u001b[0;34m\u001b[0m\u001b[0m\n\u001b[0;32m-> 3940\u001b[0;31m                                            errors=errors)\n\u001b[0m\u001b[1;32m   3941\u001b[0m \u001b[0;34m\u001b[0m\u001b[0m\n\u001b[1;32m   3942\u001b[0m     @rewrite_axis_style_signature('mapper', [('copy', True),\n",
      "\u001b[0;32m~/anaconda3/envs/metis/lib/python3.7/site-packages/pandas/core/generic.py\u001b[0m in \u001b[0;36mdrop\u001b[0;34m(self, labels, axis, index, columns, level, inplace, errors)\u001b[0m\n\u001b[1;32m   3778\u001b[0m         \u001b[0;32mfor\u001b[0m \u001b[0maxis\u001b[0m\u001b[0;34m,\u001b[0m \u001b[0mlabels\u001b[0m \u001b[0;32min\u001b[0m \u001b[0maxes\u001b[0m\u001b[0;34m.\u001b[0m\u001b[0mitems\u001b[0m\u001b[0;34m(\u001b[0m\u001b[0;34m)\u001b[0m\u001b[0;34m:\u001b[0m\u001b[0;34m\u001b[0m\u001b[0;34m\u001b[0m\u001b[0m\n\u001b[1;32m   3779\u001b[0m             \u001b[0;32mif\u001b[0m \u001b[0mlabels\u001b[0m \u001b[0;32mis\u001b[0m \u001b[0;32mnot\u001b[0m \u001b[0;32mNone\u001b[0m\u001b[0;34m:\u001b[0m\u001b[0;34m\u001b[0m\u001b[0;34m\u001b[0m\u001b[0m\n\u001b[0;32m-> 3780\u001b[0;31m                 \u001b[0mobj\u001b[0m \u001b[0;34m=\u001b[0m \u001b[0mobj\u001b[0m\u001b[0;34m.\u001b[0m\u001b[0m_drop_axis\u001b[0m\u001b[0;34m(\u001b[0m\u001b[0mlabels\u001b[0m\u001b[0;34m,\u001b[0m \u001b[0maxis\u001b[0m\u001b[0;34m,\u001b[0m \u001b[0mlevel\u001b[0m\u001b[0;34m=\u001b[0m\u001b[0mlevel\u001b[0m\u001b[0;34m,\u001b[0m \u001b[0merrors\u001b[0m\u001b[0;34m=\u001b[0m\u001b[0merrors\u001b[0m\u001b[0;34m)\u001b[0m\u001b[0;34m\u001b[0m\u001b[0;34m\u001b[0m\u001b[0m\n\u001b[0m\u001b[1;32m   3781\u001b[0m \u001b[0;34m\u001b[0m\u001b[0m\n\u001b[1;32m   3782\u001b[0m         \u001b[0;32mif\u001b[0m \u001b[0minplace\u001b[0m\u001b[0;34m:\u001b[0m\u001b[0;34m\u001b[0m\u001b[0;34m\u001b[0m\u001b[0m\n",
      "\u001b[0;32m~/anaconda3/envs/metis/lib/python3.7/site-packages/pandas/core/generic.py\u001b[0m in \u001b[0;36m_drop_axis\u001b[0;34m(self, labels, axis, level, errors)\u001b[0m\n\u001b[1;32m   3810\u001b[0m                 \u001b[0mnew_axis\u001b[0m \u001b[0;34m=\u001b[0m \u001b[0maxis\u001b[0m\u001b[0;34m.\u001b[0m\u001b[0mdrop\u001b[0m\u001b[0;34m(\u001b[0m\u001b[0mlabels\u001b[0m\u001b[0;34m,\u001b[0m \u001b[0mlevel\u001b[0m\u001b[0;34m=\u001b[0m\u001b[0mlevel\u001b[0m\u001b[0;34m,\u001b[0m \u001b[0merrors\u001b[0m\u001b[0;34m=\u001b[0m\u001b[0merrors\u001b[0m\u001b[0;34m)\u001b[0m\u001b[0;34m\u001b[0m\u001b[0;34m\u001b[0m\u001b[0m\n\u001b[1;32m   3811\u001b[0m             \u001b[0;32melse\u001b[0m\u001b[0;34m:\u001b[0m\u001b[0;34m\u001b[0m\u001b[0;34m\u001b[0m\u001b[0m\n\u001b[0;32m-> 3812\u001b[0;31m                 \u001b[0mnew_axis\u001b[0m \u001b[0;34m=\u001b[0m \u001b[0maxis\u001b[0m\u001b[0;34m.\u001b[0m\u001b[0mdrop\u001b[0m\u001b[0;34m(\u001b[0m\u001b[0mlabels\u001b[0m\u001b[0;34m,\u001b[0m \u001b[0merrors\u001b[0m\u001b[0;34m=\u001b[0m\u001b[0merrors\u001b[0m\u001b[0;34m)\u001b[0m\u001b[0;34m\u001b[0m\u001b[0;34m\u001b[0m\u001b[0m\n\u001b[0m\u001b[1;32m   3813\u001b[0m             \u001b[0mresult\u001b[0m \u001b[0;34m=\u001b[0m \u001b[0mself\u001b[0m\u001b[0;34m.\u001b[0m\u001b[0mreindex\u001b[0m\u001b[0;34m(\u001b[0m\u001b[0;34m**\u001b[0m\u001b[0;34m{\u001b[0m\u001b[0maxis_name\u001b[0m\u001b[0;34m:\u001b[0m \u001b[0mnew_axis\u001b[0m\u001b[0;34m}\u001b[0m\u001b[0;34m)\u001b[0m\u001b[0;34m\u001b[0m\u001b[0;34m\u001b[0m\u001b[0m\n\u001b[1;32m   3814\u001b[0m \u001b[0;34m\u001b[0m\u001b[0m\n",
      "\u001b[0;32m~/anaconda3/envs/metis/lib/python3.7/site-packages/pandas/core/indexes/base.py\u001b[0m in \u001b[0;36mdrop\u001b[0;34m(self, labels, errors)\u001b[0m\n\u001b[1;32m   4963\u001b[0m             \u001b[0;32mif\u001b[0m \u001b[0merrors\u001b[0m \u001b[0;34m!=\u001b[0m \u001b[0;34m'ignore'\u001b[0m\u001b[0;34m:\u001b[0m\u001b[0;34m\u001b[0m\u001b[0;34m\u001b[0m\u001b[0m\n\u001b[1;32m   4964\u001b[0m                 raise KeyError(\n\u001b[0;32m-> 4965\u001b[0;31m                     '{} not found in axis'.format(labels[mask]))\n\u001b[0m\u001b[1;32m   4966\u001b[0m             \u001b[0mindexer\u001b[0m \u001b[0;34m=\u001b[0m \u001b[0mindexer\u001b[0m\u001b[0;34m[\u001b[0m\u001b[0;34m~\u001b[0m\u001b[0mmask\u001b[0m\u001b[0;34m]\u001b[0m\u001b[0;34m\u001b[0m\u001b[0;34m\u001b[0m\u001b[0m\n\u001b[1;32m   4967\u001b[0m         \u001b[0;32mreturn\u001b[0m \u001b[0mself\u001b[0m\u001b[0;34m.\u001b[0m\u001b[0mdelete\u001b[0m\u001b[0;34m(\u001b[0m\u001b[0mindexer\u001b[0m\u001b[0;34m)\u001b[0m\u001b[0;34m\u001b[0m\u001b[0;34m\u001b[0m\u001b[0m\n",
      "\u001b[0;31mKeyError\u001b[0m: \"['perwt'] not found in axis\""
     ]
    }
   ],
   "source": [
    "X_test = X_test.drop('perwt', axis=1)\n",
    "X_test_smoted = X_test_smoted"
   ]
  },
  {
   "cell_type": "code",
   "execution_count": 51,
   "metadata": {},
   "outputs": [],
   "source": [
    "fprrf, tprrf, thresholds = roc_curve(y_test, rfmodel.predict_proba(X_test)[:,1])\n",
    "fprlr, tprlr, thresholds = roc_curve(y_test, lrmodel.predict_proba(X_test)[:,1])\n",
    "fprxgb, tprxgb, thresholds = roc_curve(y_test_smoted, xgbmodel_smoted.predict_proba(X_test_smoted)[:,1])"
   ]
  },
  {
   "cell_type": "code",
   "execution_count": 52,
   "metadata": {},
   "outputs": [
    {
     "name": "stdout",
     "output_type": "stream",
     "text": [
      "RF ROC AUC score =  0.8116387255925583\n",
      "XGB_smoted ROC AUC score =  0.8380028640155341\n",
      "LR ROC AUC score =  0.8159568582349604\n"
     ]
    },
    {
     "data": {
      "image/png": "[encoded data removed]",
      "text/plain": [
       "<Figure size 1152x648 with 1 Axes>"
      ]
     },
     "metadata": {
      "needs_background": "light"
     },
     "output_type": "display_data"
    }
   ],
   "source": [
    "plt.style.use('seaborn-poster')\n",
    "plt.subplots(figsize=(16,9))\n",
    "\n",
    "plt.plot(fprxgb, tprxgb, lw=2, label='XGBoost')\n",
    "plt.plot(fprlr, tprlr,lw=2, label='Logistic Regression')\n",
    "plt.plot(fprrf, tprrf,lw=2, label='Random Forest')\n",
    "plt.plot([0,1],[0,1],c='violet', ls='--')\n",
    "plt.xlim([-0.05,1.05])\n",
    "plt.ylim([-0.05,1.05])\n",
    "\n",
    "plt.xlabel('False positive rate')\n",
    "plt.ylabel('True positive rate')\n",
    "plt.title('ROC curve', fontsize=50)\n",
    "plt.tight_layout()\n",
    "plt.legend()\n",
    "plt.savefig('roc.png')\n",
    "print(\"RF ROC AUC score = \", roc_auc_score(y_test, rfmodel.predict_proba(X_test)[:,1]))\n",
    "print(\"XGB_smoted ROC AUC score = \", roc_auc_score(y_test_smoted, xgbmodel_smoted.predict_proba(X_test_smoted)[:,1]))\n",
    "print(\"LR ROC AUC score = \", roc_auc_score(y_test, lrmodel.predict_proba(X_test)[:,1]))"
   ]
  },
  {
   "cell_type": "markdown",
   "metadata": {},
   "source": [
    "## LR model for each state"
   ]
  },
  {
   "cell_type": "code",
   "execution_count": null,
   "metadata": {},
   "outputs": [],
   "source": [
    "query =  \"SELECT DISTINCT state_abbr, statefip FROM states\"\n",
    "\n",
    "dfs = pd_sql.read_sql(query, connection)\n",
    "\n",
    "param_grid = {'C': [0.001, 0.01, 0.1, 1, 10]}\n",
    "\n",
    "for i, row in dfs.iterrows():\n",
    "    state_abbr_lc = row['state_abbr'].lower()\n",
    "    statefip = int(row['statefip'])\n",
    "#     print(state_abbr_lc)\n",
    "\n",
    "#     pkl_file = 'df_' + state_abbr_lc + '.pkl'\n",
    "    df = pickle.load(open(f'data/df_{state_abbr_lc}.pkl', \"rb\"))\n",
    "    \n",
    "    X = df.drop(['statefip', 'hcovany'], axis=1)\n",
    "    y = df['hcovany']\n",
    "    \n",
    "    X_train, X_test, y_train, y_test = train_test_split(X, y, test_size=0.3, random_state=42)\n",
    "\n",
    "    X_weight = X_train['perwt'].copy().values.reshape(-1)\n",
    "    X_train = X_train.drop('perwt', axis=1)                           \n",
    "    X_test = X_test.drop('perwt', axis=1)\n",
    "    \n",
    "    # Find optimal C coefficient using 5-fold cross validation with GridSearchCV\n",
    "    grid = GridSearchCV(LogisticRegression(solver=\"lbfgs\", max_iter=1000, class_weight='balanced', n_jobs=-1), param_grid, cv=5)\n",
    "    grid.fit(X_train, y_train, sample_weight=X_weight)\n",
    "    optimal_c = grid.best_params_['C']\n",
    "\n",
    "    lr_model = LogisticRegression(solver=\"lbfgs\", C=optimal_c, max_iter=1000, class_weight='balanced', n_jobs=-1)\n",
    "    lr_model.fit(X_train, y_train, sample_weight=X_weight)\n",
    "        \n",
    "    pickle.dump(lr_model, open(f\"data/model_{state_abbr_lc}.pkl\", \"wb\"))"
   ]
  },
  {
   "cell_type": "code",
   "execution_count": null,
   "metadata": {},
   "outputs": [],
   "source": []
  },
  {
   "cell_type": "code",
   "execution_count": 152,
   "metadata": {},
   "outputs": [
    {
     "name": "stdout",
     "output_type": "stream",
     "text": [
      "0.8627481878348566\n"
     ]
    }
   ],
   "source": [
    "query =  \"SELECT DISTINCT state_abbr, statefip FROM states WHERE state_abbr = 'OH'\"\n",
    "\n",
    "dfs = pd_sql.read_sql(query, connection)\n",
    "\n",
    "param_grid = {'C': [0.001, 0.01, 0.1, 1, 10]}\n",
    "\n",
    "for i, row in dfs.iterrows():\n",
    "    state_abbr_lc = row['state_abbr'].lower()\n",
    "    statefip = int(row['statefip'])\n",
    "\n",
    "    df = pickle.load(open(f'data/df_{state_abbr_lc}.pkl', \"rb\"))\n",
    "    \n",
    "    X = df.drop(['statefip', 'hcovany'], axis=1)\n",
    "    y = df['hcovany']\n",
    "\n",
    "#     print(X.columns)\n",
    "    \n",
    "    X_smoted, y_smoted = SMOTE(random_state=42).fit_sample(X, y)\n",
    "    X_smoted = pd.DataFrame(X_smoted)\n",
    "    y_smoted = pd.DataFrame(y_smoted)\n",
    "    X_weight_smoted = X_smoted[0].copy().values.reshape(-1)\n",
    "    X_smoted = X_smoted.drop(0, axis=1)    \n",
    "\n",
    "    X_train_smoted, X_test_smoted, y_train_smoted, y_test_smoted = train_test_split(X_smoted, y_smoted, test_size=0.3, random_state=42)\n",
    "\n",
    "    xgbmodel_smoted = XGBClassifier(n_jobs=-1)\n",
    "    xgbmodel_smoted.fit(X_train_smoted, y_train_smoted.values.ravel(), sample_weight=X_weight_smoted)\n",
    "    \n",
    "    y_smote_pred = xgbmodel_smoted.predict(X_test_smoted)\n",
    "    recall_xgb_smote = recall_score(y_test_smoted, y_smote_pred)\n",
    "    print(recall_xgb_smote)\n",
    "    pickle.dump(xgbmodel_smoted, open(f\"data/model_xgb_{state_abbr_lc}.pkl\", \"wb\"))    "
   ]
  },
  {
   "cell_type": "code",
   "execution_count": 153,
   "metadata": {},
   "outputs": [],
   "source": [
    "xgbmodel = pickle.load( open( \"data/model_xgb_oh.pkl\", \"rb\" ) )"
   ]
  },
  {
   "cell_type": "code",
   "execution_count": 48,
   "metadata": {},
   "outputs": [
    {
     "ename": "NameError",
     "evalue": "name 'xgbmodel' is not defined",
     "output_type": "error",
     "traceback": [
      "\u001b[0;31m---------------------------------------------------------------------------\u001b[0m",
      "\u001b[0;31mNameError\u001b[0m                                 Traceback (most recent call last)",
      "\u001b[0;32m<ipython-input-48-57c693a0ec7f>\u001b[0m in \u001b[0;36m<module>\u001b[0;34m\u001b[0m\n\u001b[0;32m----> 1\u001b[0;31m \u001b[0mxgbmodel\u001b[0m\u001b[0;34m.\u001b[0m\u001b[0mpredict_proba\u001b[0m\u001b[0;34m(\u001b[0m\u001b[0mX_ins\u001b[0m\u001b[0;34m)\u001b[0m\u001b[0;34m\u001b[0m\u001b[0;34m\u001b[0m\u001b[0m\n\u001b[0m",
      "\u001b[0;31mNameError\u001b[0m: name 'xgbmodel' is not defined"
     ]
    }
   ],
   "source": [
    "xgbmodel.predict_proba(X_ins)"
   ]
  },
  {
   "cell_type": "code",
   "execution_count": 64,
   "metadata": {},
   "outputs": [
    {
     "ename": "ValueError",
     "evalue": "feature_names mismatch: ['0 ', '1 ', '2 ', '3 ', '4 ', '5 ', '6 ', '7 ', '8 ', '9 ', '10', '11', '12', '13', '14', '15', '16', '17', '18', '19', '20'] ['sex_male', 'marst_divorced', 'marst_single', 'race_black', 'race_other', 'race_white', 'citizen_other', 'speakeng_no_english', 'speakeng_poor_english', 'educ_grad_school', 'educ_high_school', 'educ_middle_school', 'educ_other', 'educ_some_college', 'empstat_not_in_labor_force', 'empstat_unemployed', 'incbrack_middle_income', 'incbrack_upper_income', 'agebrack_adult', 'agebrack_senior']\nexpected 6 , 16, 20, 12, 8 , 0 , 5 , 11, 3 , 13, 18, 19, 7 , 4 , 2 , 17, 14, 1 , 10, 15, 9  in input data\ntraining data did not have the following fields: marst_divorced, educ_middle_school, race_white, incbrack_upper_income, speakeng_poor_english, educ_grad_school, educ_other, agebrack_senior, educ_some_college, sex_male, agebrack_adult, race_black, citizen_other, incbrack_middle_income, marst_single, race_other, educ_high_school, empstat_unemployed, empstat_not_in_labor_force, speakeng_no_english",
     "output_type": "error",
     "traceback": [
      "\u001b[0;31m---------------------------------------------------------------------------\u001b[0m",
      "\u001b[0;31mValueError\u001b[0m                                Traceback (most recent call last)",
      "\u001b[0;32m<ipython-input-64-c3511f6a781b>\u001b[0m in \u001b[0;36m<module>\u001b[0;34m\u001b[0m\n\u001b[0;32m----> 1\u001b[0;31m \u001b[0my_smote_pred\u001b[0m \u001b[0;34m=\u001b[0m \u001b[0mxgbmodel_smoted\u001b[0m\u001b[0;34m.\u001b[0m\u001b[0mpredict\u001b[0m\u001b[0;34m(\u001b[0m\u001b[0mX_ins\u001b[0m\u001b[0;34m)\u001b[0m\u001b[0;34m\u001b[0m\u001b[0;34m\u001b[0m\u001b[0m\n\u001b[0m\u001b[1;32m      2\u001b[0m \u001b[0mrecall_xgb_smote\u001b[0m \u001b[0;34m=\u001b[0m \u001b[0mrecall_score\u001b[0m\u001b[0;34m(\u001b[0m\u001b[0my_test_smoted\u001b[0m\u001b[0;34m,\u001b[0m \u001b[0my_smote_pred\u001b[0m\u001b[0;34m)\u001b[0m\u001b[0;34m\u001b[0m\u001b[0;34m\u001b[0m\u001b[0m\n\u001b[1;32m      3\u001b[0m \u001b[0mrecall_xgb_smote\u001b[0m\u001b[0;34m\u001b[0m\u001b[0;34m\u001b[0m\u001b[0m\n",
      "\u001b[0;32m~/anaconda3/envs/metis/lib/python3.7/site-packages/xgboost/sklearn.py\u001b[0m in \u001b[0;36mpredict\u001b[0;34m(self, data, output_margin, ntree_limit, validate_features)\u001b[0m\n\u001b[1;32m    770\u001b[0m                                                  \u001b[0moutput_margin\u001b[0m\u001b[0;34m=\u001b[0m\u001b[0moutput_margin\u001b[0m\u001b[0;34m,\u001b[0m\u001b[0;34m\u001b[0m\u001b[0;34m\u001b[0m\u001b[0m\n\u001b[1;32m    771\u001b[0m                                                  \u001b[0mntree_limit\u001b[0m\u001b[0;34m=\u001b[0m\u001b[0mntree_limit\u001b[0m\u001b[0;34m,\u001b[0m\u001b[0;34m\u001b[0m\u001b[0;34m\u001b[0m\u001b[0m\n\u001b[0;32m--> 772\u001b[0;31m                                                  validate_features=validate_features)\n\u001b[0m\u001b[1;32m    773\u001b[0m         \u001b[0;32mif\u001b[0m \u001b[0moutput_margin\u001b[0m\u001b[0;34m:\u001b[0m\u001b[0;34m\u001b[0m\u001b[0;34m\u001b[0m\u001b[0m\n\u001b[1;32m    774\u001b[0m             \u001b[0;31m# If output_margin is active, simply return the scores\u001b[0m\u001b[0;34m\u001b[0m\u001b[0;34m\u001b[0m\u001b[0;34m\u001b[0m\u001b[0m\n",
      "\u001b[0;32m~/anaconda3/envs/metis/lib/python3.7/site-packages/xgboost/core.py\u001b[0m in \u001b[0;36mpredict\u001b[0;34m(self, data, output_margin, ntree_limit, pred_leaf, pred_contribs, approx_contribs, pred_interactions, validate_features)\u001b[0m\n\u001b[1;32m   1283\u001b[0m \u001b[0;34m\u001b[0m\u001b[0m\n\u001b[1;32m   1284\u001b[0m         \u001b[0;32mif\u001b[0m \u001b[0mvalidate_features\u001b[0m\u001b[0;34m:\u001b[0m\u001b[0;34m\u001b[0m\u001b[0;34m\u001b[0m\u001b[0m\n\u001b[0;32m-> 1285\u001b[0;31m             \u001b[0mself\u001b[0m\u001b[0;34m.\u001b[0m\u001b[0m_validate_features\u001b[0m\u001b[0;34m(\u001b[0m\u001b[0mdata\u001b[0m\u001b[0;34m)\u001b[0m\u001b[0;34m\u001b[0m\u001b[0;34m\u001b[0m\u001b[0m\n\u001b[0m\u001b[1;32m   1286\u001b[0m \u001b[0;34m\u001b[0m\u001b[0m\n\u001b[1;32m   1287\u001b[0m         \u001b[0mlength\u001b[0m \u001b[0;34m=\u001b[0m \u001b[0mc_bst_ulong\u001b[0m\u001b[0;34m(\u001b[0m\u001b[0;34m)\u001b[0m\u001b[0;34m\u001b[0m\u001b[0;34m\u001b[0m\u001b[0m\n",
      "\u001b[0;32m~/anaconda3/envs/metis/lib/python3.7/site-packages/xgboost/core.py\u001b[0m in \u001b[0;36m_validate_features\u001b[0;34m(self, data)\u001b[0m\n\u001b[1;32m   1690\u001b[0m \u001b[0;34m\u001b[0m\u001b[0m\n\u001b[1;32m   1691\u001b[0m                 raise ValueError(msg.format(self.feature_names,\n\u001b[0;32m-> 1692\u001b[0;31m                                             data.feature_names))\n\u001b[0m\u001b[1;32m   1693\u001b[0m \u001b[0;34m\u001b[0m\u001b[0m\n\u001b[1;32m   1694\u001b[0m     \u001b[0;32mdef\u001b[0m \u001b[0mget_split_value_histogram\u001b[0m\u001b[0;34m(\u001b[0m\u001b[0mself\u001b[0m\u001b[0;34m,\u001b[0m \u001b[0mfeature\u001b[0m\u001b[0;34m,\u001b[0m \u001b[0mfmap\u001b[0m\u001b[0;34m=\u001b[0m\u001b[0;34m''\u001b[0m\u001b[0;34m,\u001b[0m \u001b[0mbins\u001b[0m\u001b[0;34m=\u001b[0m\u001b[0;32mNone\u001b[0m\u001b[0;34m,\u001b[0m \u001b[0mas_pandas\u001b[0m\u001b[0;34m=\u001b[0m\u001b[0;32mTrue\u001b[0m\u001b[0;34m)\u001b[0m\u001b[0;34m:\u001b[0m\u001b[0;34m\u001b[0m\u001b[0;34m\u001b[0m\u001b[0m\n",
      "\u001b[0;31mValueError\u001b[0m: feature_names mismatch: ['0 ', '1 ', '2 ', '3 ', '4 ', '5 ', '6 ', '7 ', '8 ', '9 ', '10', '11', '12', '13', '14', '15', '16', '17', '18', '19', '20'] ['sex_male', 'marst_divorced', 'marst_single', 'race_black', 'race_other', 'race_white', 'citizen_other', 'speakeng_no_english', 'speakeng_poor_english', 'educ_grad_school', 'educ_high_school', 'educ_middle_school', 'educ_other', 'educ_some_college', 'empstat_not_in_labor_force', 'empstat_unemployed', 'incbrack_middle_income', 'incbrack_upper_income', 'agebrack_adult', 'agebrack_senior']\nexpected 6 , 16, 20, 12, 8 , 0 , 5 , 11, 3 , 13, 18, 19, 7 , 4 , 2 , 17, 14, 1 , 10, 15, 9  in input data\ntraining data did not have the following fields: marst_divorced, educ_middle_school, race_white, incbrack_upper_income, speakeng_poor_english, educ_grad_school, educ_other, agebrack_senior, educ_some_college, sex_male, agebrack_adult, race_black, citizen_other, incbrack_middle_income, marst_single, race_other, educ_high_school, empstat_unemployed, empstat_not_in_labor_force, speakeng_no_english"
     ]
    }
   ],
   "source": [
    "y_smote_pred = xgbmodel_smoted.predict(X_ins)\n",
    "recall_xgb_smote = recall_score(y_test_smoted, y_smote_pred)\n",
    "recall_xgb_smote"
   ]
  },
  {
   "cell_type": "code",
   "execution_count": 63,
   "metadata": {},
   "outputs": [
    {
     "ename": "AttributeError",
     "evalue": "'numpy.float64' object has no attribute 'predict'",
     "output_type": "error",
     "traceback": [
      "\u001b[0;31m---------------------------------------------------------------------------\u001b[0m",
      "\u001b[0;31mAttributeError\u001b[0m                            Traceback (most recent call last)",
      "\u001b[0;32m<ipython-input-63-33dd25517d64>\u001b[0m in \u001b[0;36m<module>\u001b[0;34m\u001b[0m\n\u001b[0;32m----> 1\u001b[0;31m \u001b[0my_pred\u001b[0m \u001b[0;34m=\u001b[0m \u001b[0mrecall_xgb_smote\u001b[0m\u001b[0;34m.\u001b[0m\u001b[0mpredict\u001b[0m\u001b[0;34m(\u001b[0m\u001b[0mX_ins\u001b[0m\u001b[0;34m)\u001b[0m\u001b[0;34m\u001b[0m\u001b[0;34m\u001b[0m\u001b[0m\n\u001b[0m",
      "\u001b[0;31mAttributeError\u001b[0m: 'numpy.float64' object has no attribute 'predict'"
     ]
    }
   ],
   "source": [
    "y_pred = recall_xgb_smote.predict(X_ins)"
   ]
  },
  {
   "cell_type": "code",
   "execution_count": null,
   "metadata": {},
   "outputs": [],
   "source": []
  },
  {
   "cell_type": "code",
   "execution_count": null,
   "metadata": {},
   "outputs": [],
   "source": []
  },
  {
   "cell_type": "code",
   "execution_count": 52,
   "metadata": {},
   "outputs": [
    {
     "data": {
      "text/plain": [
       "0.9576698250204987"
      ]
     },
     "execution_count": 52,
     "metadata": {},
     "output_type": "execute_result"
    }
   ],
   "source": [
    "lrmodel.predict_proba(X_noins)[0][1]\n",
    "# health_options[model.predict(X_ins)[0]]"
   ]
  },
  {
   "cell_type": "code",
   "execution_count": 51,
   "metadata": {},
   "outputs": [
    {
     "data": {
      "text/plain": [
       "0.28716623507262956"
      ]
     },
     "execution_count": 51,
     "metadata": {},
     "output_type": "execute_result"
    }
   ],
   "source": [
    "lrmodel.predict_proba(X_ins)[0][1]\n",
    "# health_options[model.predict(X_ins)[0]]"
   ]
  },
  {
   "cell_type": "code",
   "execution_count": null,
   "metadata": {},
   "outputs": [],
   "source": []
  }
 ],
 "metadata": {
  "kernelspec": {
   "display_name": "metis",
   "language": "python",
   "name": "metis"
  },
  "language_info": {
   "codemirror_mode": {
    "name": "ipython",
    "version": 3
   },
   "file_extension": ".py",
   "mimetype": "text/x-python",
   "name": "python",
   "nbconvert_exporter": "python",
   "pygments_lexer": "ipython3",
   "version": "3.7.4"
  }
 },
 "nbformat": 4,
 "nbformat_minor": 4
}
